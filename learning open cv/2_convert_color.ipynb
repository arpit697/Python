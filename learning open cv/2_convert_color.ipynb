{
 "cells": [
  {
   "cell_type": "code",
   "execution_count": 1,
   "id": "698c34c3",
   "metadata": {},
   "outputs": [],
   "source": [
    "import numpy as np\n",
    "import cv2"
   ]
  },
  {
   "cell_type": "code",
   "execution_count": 3,
   "id": "80cb864f",
   "metadata": {},
   "outputs": [],
   "source": [
    "img = cv2.imread('./images/flemingo.jpg') #in bgr formate"
   ]
  },
  {
   "cell_type": "code",
   "execution_count": 4,
   "id": "05178861",
   "metadata": {},
   "outputs": [],
   "source": [
    "#img"
   ]
  },
  {
   "cell_type": "code",
   "execution_count": 5,
   "id": "3570d245",
   "metadata": {},
   "outputs": [],
   "source": [
    "#img.shape"
   ]
  },
  {
   "cell_type": "code",
   "execution_count": 6,
   "id": "258e8bd9",
   "metadata": {},
   "outputs": [],
   "source": [
    "b,g,r = cv2.split(img)"
   ]
  },
  {
   "cell_type": "code",
   "execution_count": 18,
   "id": "4c652d14",
   "metadata": {},
   "outputs": [
    {
     "name": "stdout",
     "output_type": "stream",
     "text": [
      "[[188 189 189 ... 188 188 188]\n",
      " [188 189 189 ... 188 188 188]\n",
      " [188 189 189 ... 188 188 188]\n",
      " ...\n",
      " [167 167 167 ... 177 177 177]\n",
      " [173 173 174 ... 177 177 177]\n",
      " [177 177 178 ... 175 175 175]]\n",
      "[[163 164 164 ... 163 163 163]\n",
      " [163 164 164 ... 163 163 163]\n",
      " [163 164 164 ... 163 163 163]\n",
      " ...\n",
      " [134 134 134 ... 144 144 144]\n",
      " [140 140 141 ... 144 144 144]\n",
      " [147 147 148 ... 145 145 145]]\n",
      "[[119 120 120 ... 119 119 119]\n",
      " [119 120 120 ... 119 119 119]\n",
      " [119 120 120 ... 119 119 119]\n",
      " ...\n",
      " [ 88  88  88 ...  98  98  98]\n",
      " [ 94  94  95 ...  98  98  98]\n",
      " [100 100 101 ...  98  98  98]]\n"
     ]
    }
   ],
   "source": [
    "print(b)\n",
    "print(g)\n",
    "print(r)"
   ]
  },
  {
   "cell_type": "code",
   "execution_count": 19,
   "id": "3d4884d2",
   "metadata": {},
   "outputs": [],
   "source": [
    "cv2.imshow('color',img)\n",
    "cv2.imshow('blue',b)\n",
    "cv2.imshow('red',r)\n",
    "cv2.imshow('green',g)\n",
    "cv2.waitKey(0)\n",
    "cv2.destroyAllWindows()"
   ]
  },
  {
   "cell_type": "markdown",
   "id": "3989d423",
   "metadata": {},
   "source": [
    "# color convertor"
   ]
  },
  {
   "cell_type": "code",
   "execution_count": 24,
   "id": "87dc6073",
   "metadata": {},
   "outputs": [],
   "source": [
    "img_rgb = cv2.cvtColor(img,cv2.COLOR_BGR2RGB)"
   ]
  },
  {
   "cell_type": "code",
   "execution_count": 25,
   "id": "0e6be432",
   "metadata": {},
   "outputs": [],
   "source": [
    "gray = cv2.cvtColor(img,cv2.COLOR_BGR2GRAY)"
   ]
  },
  {
   "cell_type": "code",
   "execution_count": null,
   "id": "7986053e",
   "metadata": {},
   "outputs": [],
   "source": [
    "cv2.imshow('color_bgr',img)\n",
    "cv2.imshow('color_rgb',img_rgb)\n",
    "cv2.imshow('gray',gray)\n",
    "cv2.waitKey(0)\n",
    "cv2.destroyAllWindows()"
   ]
  },
  {
   "cell_type": "code",
   "execution_count": null,
   "id": "a7ebc64a",
   "metadata": {},
   "outputs": [],
   "source": []
  }
 ],
 "metadata": {
  "kernelspec": {
   "display_name": "Python 3",
   "language": "python",
   "name": "python3"
  },
  "language_info": {
   "codemirror_mode": {
    "name": "ipython",
    "version": 3
   },
   "file_extension": ".py",
   "mimetype": "text/x-python",
   "name": "python",
   "nbconvert_exporter": "python",
   "pygments_lexer": "ipython3",
   "version": "3.8.8"
  }
 },
 "nbformat": 4,
 "nbformat_minor": 5
}
