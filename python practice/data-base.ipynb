{
 "cells": [
  {
   "cell_type": "code",
   "execution_count": null,
   "id": "b9d92bfa",
   "metadata": {},
   "outputs": [],
   "source": []
  },
  {
   "cell_type": "code",
   "execution_count": 5,
   "id": "0451379e",
   "metadata": {},
   "outputs": [],
   "source": [
    "import mysql.connector"
   ]
  },
  {
   "cell_type": "code",
   "execution_count": 6,
   "id": "fa34cfd7",
   "metadata": {},
   "outputs": [],
   "source": [
    "def CreateConn():\n",
    "    return mysql.connector.connect(host=\"localhost\",database=\"learnvern\",user=\"root\",\n",
    "                         password=\"\")"
   ]
  },
  {
   "cell_type": "code",
   "execution_count": 7,
   "id": "f4100705",
   "metadata": {},
   "outputs": [],
   "source": [
    "def CreateTable():\n",
    "    conn = CreateConn()\n",
    "    cursor = conn.cursor() #it helps to execute query\n",
    "    qurey = \"create student table(sid int primary key auto_increment ,name VARCHAR(50))\"\n",
    "    cursor.execute(qurey)\n",
    "    conn.commit()\n",
    "    print(\"table created\")\n",
    "    conn.close()\n",
    "    \n",
    "    CreateTable() "
   ]
  },
  {
   "cell_type": "code",
   "execution_count": 6,
   "id": "7e8f5ec0",
   "metadata": {},
   "outputs": [
    {
     "data": {
      "text/plain": [
       "2"
      ]
     },
     "execution_count": 6,
     "metadata": {},
     "output_type": "execute_result"
    }
   ],
   "source": []
  },
  {
   "cell_type": "code",
   "execution_count": null,
   "id": "4de88ec0",
   "metadata": {},
   "outputs": [],
   "source": []
  }
 ],
 "metadata": {
  "kernelspec": {
   "display_name": "Python 3",
   "language": "python",
   "name": "python3"
  },
  "language_info": {
   "codemirror_mode": {
    "name": "ipython",
    "version": 3
   },
   "file_extension": ".py",
   "mimetype": "text/x-python",
   "name": "python",
   "nbconvert_exporter": "python",
   "pygments_lexer": "ipython3",
   "version": "3.8.8"
  }
 },
 "nbformat": 4,
 "nbformat_minor": 5
}
