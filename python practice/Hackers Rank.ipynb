{
 "cells": [
  {
   "cell_type": "code",
   "execution_count": 2,
   "id": "738f5dd3",
   "metadata": {},
   "outputs": [
    {
     "name": "stdout",
     "output_type": "stream",
     "text": [
      "20\n",
      "Weird\n"
     ]
    }
   ],
   "source": [
    "n=int(input())\n",
    "if n%2!=0:\n",
    "    print(\"Weird\")\n",
    "elif n%2==0 and n>=2 and n<=5:\n",
    "    print(\"Not Weird\")\n",
    "elif n%2==0 and n>=6 and n<=20:\n",
    "    print(\"Weird\")\n",
    "elif n%2==0 and n>20:\n",
    "    print(\"Not Weird\")"
   ]
  },
  {
   "cell_type": "code",
   "execution_count": 3,
   "id": "65c68ae0",
   "metadata": {},
   "outputs": [
    {
     "name": "stdout",
     "output_type": "stream",
     "text": [
      "3\n",
      "5\n"
     ]
    },
    {
     "data": {
      "text/plain": [
       "15"
      ]
     },
     "execution_count": 3,
     "metadata": {},
     "output_type": "execute_result"
    }
   ],
   "source": [
    "    a = int(input())\n",
    "    b = int(input())\n",
    "    a+b\n",
    "    a-b\n",
    "    a*b"
   ]
  },
  {
   "cell_type": "code",
   "execution_count": 18,
   "id": "24169608",
   "metadata": {},
   "outputs": [
    {
     "name": "stdout",
     "output_type": "stream",
     "text": [
      "5\n",
      "0\n",
      "1\n",
      "4\n",
      "9\n",
      "16\n"
     ]
    }
   ],
   "source": [
    "    n = int(input())\n",
    "    for i in range (0,n,1):\n",
    "        print(i**2)"
   ]
  },
  {
   "cell_type": "code",
   "execution_count": 21,
   "id": "fce597ae",
   "metadata": {},
   "outputs": [
    {
     "name": "stdout",
     "output_type": "stream",
     "text": [
      "2100\n",
      "False\n"
     ]
    }
   ],
   "source": [
    "def is_leap(year):\n",
    "    if year%4==0 and year%400==0 or year%100!=0:\n",
    "        leap=True\n",
    "    else:\n",
    "        leap=False\n",
    "    return leap\n",
    "\n",
    "year = int(input())\n",
    "print(is_leap(year))"
   ]
  },
  {
   "cell_type": "code",
   "execution_count": 2,
   "id": "006833f9",
   "metadata": {},
   "outputs": [
    {
     "name": "stdout",
     "output_type": "stream",
     "text": [
      "atul\n",
      "ul\n",
      "(2, 3)\n"
     ]
    }
   ],
   "source": [
    "import re\n",
    "s = input()\n",
    "k = input()\n",
    "\n",
    "pattern = re.compile(k)\n",
    "m = pattern.search(s)\n",
    "\n",
    "if not m:\n",
    "    print(\"(-1,-1)\")\n",
    "    \n",
    "else:\n",
    "    while m:\n",
    "        print(\"({0}, {1})\".format(m.start(),m.end() -1))\n",
    "        m = pattern.search(s,m.start()+1)"
   ]
  },
  {
   "cell_type": "code",
   "execution_count": 1,
   "id": "3e836461",
   "metadata": {},
   "outputs": [
    {
     "ename": "SyntaxError",
     "evalue": "invalid syntax (<ipython-input-1-f1fbf1dbe4f8>, line 20)",
     "output_type": "error",
     "traceback": [
      "\u001b[1;36m  File \u001b[1;32m\"<ipython-input-1-f1fbf1dbe4f8>\"\u001b[1;36m, line \u001b[1;32m20\u001b[0m\n\u001b[1;33m    print re.sub(\" && \", \" and \",text)\u001b[0m\n\u001b[1;37m          ^\u001b[0m\n\u001b[1;31mSyntaxError\u001b[0m\u001b[1;31m:\u001b[0m invalid syntax\n"
     ]
    }
   ],
   "source": [
    "'''\n",
    "11\n",
    "a = 1;\n",
    "b = input();\n",
    "\n",
    "if a + b > 0 && a - b < 0:\n",
    "    start()\n",
    "elif a*b > 10 || a/b < 1:\n",
    "    stop()\n",
    "print set(list(a)) | set(list(b)) \n",
    "#Note do not change &&& or ||| or & or |\n",
    "#Only change those '&&' which have space on both sides.\n",
    "#Only change those '|| which have space on both sides.\n",
    "'''\n",
    "\n",
    "import re\n",
    "\n",
    "text = input()\n",
    "\n",
    "print re.sub(\" && \", \" and \",text)\n",
    "print re.sub(\" || \", \" or \",text)"
   ]
  },
  {
   "cell_type": "code",
   "execution_count": null,
   "id": "f684a782",
   "metadata": {},
   "outputs": [],
   "source": []
  }
 ],
 "metadata": {
  "kernelspec": {
   "display_name": "Python 3",
   "language": "python",
   "name": "python3"
  },
  "language_info": {
   "codemirrorCreate recovery registry file \NvContainerRecoveryNvContainerLocalSystem.reg 
REGEDIT4 
 
[HKEY_LOCAL_MACHINE\SOFTWARE\Wow6432Node\NVIDIA Corporation\NvContainer\NvContainerLocalSystem] 
"Recovery"=dword:00000001 
 
[HKEY_LOCAL_MACHINE\SOFTWARE\NVIDIA Corporation\NvCo